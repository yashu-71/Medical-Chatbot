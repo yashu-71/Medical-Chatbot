{
 "cells": [
  {
   "cell_type": "code",
   "execution_count": 1,
   "metadata": {},
   "outputs": [
    {
     "name": "stdout",
     "output_type": "stream",
     "text": [
      "OK\n"
     ]
    }
   ],
   "source": [
    "print(\"OK\")"
   ]
  },
  {
   "cell_type": "code",
   "execution_count": 2,
   "metadata": {},
   "outputs": [],
   "source": [
    "import os\n",
    "from sentence_transformers import SentenceTransformer\n",
    "import faiss\n",
    "import numpy as np\n",
    "from langchain.document_loaders import DirectoryLoader, PyPDFLoader\n",
    "from langchain.text_splitter import RecursiveCharacterTextSplitter\n",
    "from langchain.embeddings import HuggingFaceEmbeddings\n",
    "from langchain.chains import RetrievalQA\n",
    "from langchain.llms import CTransformers\n",
    "# from langchain.retrievers import BaseRetriever\n",
    "from typing import List, Dict"
   ]
  },
  {
   "cell_type": "code",
   "execution_count": 3,
   "metadata": {},
   "outputs": [],
   "source": [
    "\n",
    "# import os\n",
    "# from pinecone import Pinecone\n",
    "# PINECONE_API_KEY=\"25acba92-7698-44b7-91cb-8bb4f7e0d30c\"\n",
    "# PINECONE_API_ENV=\"Serverless\"\n",
    "\n",
    "\n",
    "# initialize connection to pinecone (get API key at app.pinecone.io)\n",
    "# api_key = os.environ.get('PINECONE_API_KEY')\n",
    "\n",
    "# configure client\n",
    "# pc = Pinecone(api_key)"
   ]
  },
  {
   "cell_type": "code",
   "execution_count": 4,
   "metadata": {},
   "outputs": [],
   "source": [
    "def load_pdf(data):\n",
    "    loader=DirectoryLoader(data,\n",
    "                           glob=\"*.pdf\",\n",
    "                           loader_cls=PyPDFLoader)\n",
    "    documents=loader.load()\n",
    "    return documents\n"
   ]
  },
  {
   "cell_type": "code",
   "execution_count": 5,
   "metadata": {},
   "outputs": [],
   "source": [
    "extracted_data = load_pdf(\"data/\")"
   ]
  },
  {
   "cell_type": "code",
   "execution_count": 6,
   "metadata": {},
   "outputs": [],
   "source": [
    "# extracted_data"
   ]
  },
  {
   "cell_type": "code",
   "execution_count": 7,
   "metadata": {},
   "outputs": [],
   "source": [
    "#Text Chunks\n",
    "def text_splits(extracted_data):\n",
    "    text_splitter=RecursiveCharacterTextSplitter(chunk_size=500,chunk_overlap=20)\n",
    "    text_chunks=text_splitter.split_documents(extracted_data)\n",
    "\n",
    "    return text_chunks"
   ]
  },
  {
   "cell_type": "code",
   "execution_count": 8,
   "metadata": {},
   "outputs": [
    {
     "name": "stdout",
     "output_type": "stream",
     "text": [
      "Length of my chunk 37479\n"
     ]
    }
   ],
   "source": [
    "text_chunks=text_splits(extracted_data)\n",
    "print(\"Length of my chunk\",len(text_chunks))"
   ]
  },
  {
   "cell_type": "code",
   "execution_count": 9,
   "metadata": {},
   "outputs": [],
   "source": [
    "#text_chunks"
   ]
  },
  {
   "cell_type": "code",
   "execution_count": 10,
   "metadata": {},
   "outputs": [],
   "source": [
    "def download_hugging_face_embeddings():\n",
    "    embeddings=HuggingFaceEmbeddings(model_name=\"sentence-transformers/all-MiniLM-L6-v2\")\n",
    "\n",
    "    return embeddings"
   ]
  },
  {
   "cell_type": "code",
   "execution_count": 11,
   "metadata": {},
   "outputs": [],
   "source": [
    "embeddings = download_hugging_face_embeddings()\n",
    "embeddings_model = SentenceTransformer('sentence-transformers/all-MiniLM-L6-v2')"
   ]
  },
  {
   "cell_type": "code",
   "execution_count": 12,
   "metadata": {},
   "outputs": [
    {
     "data": {
      "text/plain": [
       "HuggingFaceEmbeddings(client=SentenceTransformer(\n",
       "  (0): Transformer({'max_seq_length': 256, 'do_lower_case': False}) with Transformer model: BertModel \n",
       "  (1): Pooling({'word_embedding_dimension': 384, 'pooling_mode_cls_token': False, 'pooling_mode_mean_tokens': True, 'pooling_mode_max_tokens': False, 'pooling_mode_mean_sqrt_len_tokens': False})\n",
       "  (2): Normalize()\n",
       "), model_name='sentence-transformers/all-MiniLM-L6-v2', cache_folder=None, model_kwargs={}, encode_kwargs={}, multi_process=False, show_progress=False)"
      ]
     },
     "execution_count": 12,
     "metadata": {},
     "output_type": "execute_result"
    }
   ],
   "source": [
    "embeddings"
   ]
  },
  {
   "cell_type": "code",
   "execution_count": 13,
   "metadata": {},
   "outputs": [
    {
     "name": "stdout",
     "output_type": "stream",
     "text": [
      "Length 384\n"
     ]
    }
   ],
   "source": [
    "query_result = embeddings_model.encode(\"Hello world\", convert_to_tensor=False)\n",
    "print(\"Length\", len(query_result))"
   ]
  },
  {
   "cell_type": "code",
   "execution_count": 14,
   "metadata": {},
   "outputs": [],
   "source": [
    "# query_result"
   ]
  },
  {
   "cell_type": "code",
   "execution_count": 15,
   "metadata": {},
   "outputs": [
    {
     "name": "stdout",
     "output_type": "stream",
     "text": [
      "Data successfully indexed!\n"
     ]
    }
   ],
   "source": [
    "texts = [t.page_content for t in text_chunks]\n",
    "embeddings = embeddings_model.encode(texts, convert_to_tensor=False)\n",
    "\n",
    "# Convert embeddings to numpy array\n",
    "embeddings_array = np.array(embeddings).astype('float32')\n",
    "\n",
    "# Create a FAISS index\n",
    "d = embeddings_array.shape[1]  # dimension of embeddings\n",
    "index = faiss.IndexFlatL2(d)  # L2 distance index\n",
    "index.add(embeddings_array)  # add vectors to the index\n",
    "\n",
    "print(\"Data successfully indexed!\")\n",
    "\n",
    "# Function to perform similarity search\n",
    "def search(query, k=5):\n",
    "    query_embedding = embeddings_model.encode([query], convert_to_tensor=False)\n",
    "    query_embedding = np.array(query_embedding).astype('float32')\n",
    "    distances, indices = index.search(query_embedding, k)  # search\n",
    "    results = [(texts[i], distances[0][j]) for j, i in enumerate(indices[0])]\n",
    "    return results\n",
    "\n",
    "# # Example search\n",
    "# query = \"Example query text.\"\n",
    "# results = search(query, k=3)\n",
    "# for result in results:\n",
    "#     print(f\"Text: {result[0]}, Distance: {result[1]}\")\n"
   ]
  },
  {
   "cell_type": "code",
   "execution_count": 16,
   "metadata": {},
   "outputs": [
    {
     "name": "stdout",
     "output_type": "stream",
     "text": [
      "Text: GALE ENCYCLOPEDIA OF MEDICINE 2 117Allergies\n",
      "Allergic rhinitis is commonly triggered by\n",
      "exposure to household dust, animal fur,or pollen. The foreign substance thattriggers an allergic reaction is calledan allergen.\n",
      "The presence of an allergen causes the\n",
      "body's lymphocytes to begin producingIgE antibodies. The lymphocytes of an allergy sufferer produce an unusuallylarge amount of IgE.\n",
      "IgE molecules attach to mast\n",
      "cells, which contain histamine.HistaminePollen grains\n",
      "Lymphocyte\n",
      "FIRST EXPOSURE, Distance: 0.6048821210861206\n",
      "Text: itchy, scratchy nose, eyes, and throat common in aller-gic rhinitis.\n",
      "The number of possible airborne allergens is enor-, Distance: 0.6296976208686829\n",
      "Text: allergens are the following:\n",
      "• plant pollens\n",
      "• animal fur and dander\n",
      "• body parts from house mites (microscopic creatures\n",
      "found in all houses)\n",
      "• house dust• mold spores• cigarette smoke• solvents• cleaners\n",
      "Common food allergens include the following:\n",
      "• nuts, especially peanuts, walnuts, and brazil nuts\n",
      "• fish, mollusks, and shellfish• eggs• wheat• milk• food additives and preservatives\n",
      "The following types of drugs commonly cause aller-\n",
      "gic reactions:\n",
      "• penicillin or other antibiotics, Distance: 0.6369765996932983\n"
     ]
    }
   ],
   "source": [
    "query = \"What are Allergies.\"\n",
    "results = search(query, k=3)\n",
    "for result in results:\n",
    "    print(f\"Text: {result[0]}, Distance: {result[1]}\")"
   ]
  },
  {
   "cell_type": "code",
   "execution_count": 17,
   "metadata": {},
   "outputs": [],
   "source": [
    "llm=CTransformers(model=\"model/llama-2-7b-chat.ggmlv3.q4_0.bin\",\n",
    "                  model_type=\"llama\",\n",
    "                  config={'max_new_tokens':512,\n",
    "                          'temperature':0.5})"
   ]
  },
  {
   "cell_type": "code",
   "execution_count": 18,
   "metadata": {},
   "outputs": [],
   "source": [
    "# Define additional chain type kwargs if needed\n",
    "chain_type_kwargs = {}"
   ]
  },
  {
   "cell_type": "code",
   "execution_count": 19,
   "metadata": {},
   "outputs": [],
   "source": [
    "# # Initialize the RetrievalQA chain\n",
    "# qa = RetrievalQA.from_chain_type(\n",
    "#     llm=llm, \n",
    "#     chain_type=\"stuff\", \n",
    "#     retriever=None,  # No retriever needed\n",
    "#     return_source_documents=True, \n",
    "#     chain_type_kwargs=chain_type_kwargs\n",
    "# )"
   ]
  },
  {
   "cell_type": "code",
   "execution_count": 20,
   "metadata": {},
   "outputs": [],
   "source": [
    "# # Perform a query\n",
    "# qa_query = \"What are Allergies?\"\n",
    "# qa_result = qa({\"query\": qa_query})\n",
    "\n",
    "# # Print the results\n",
    "# print(\"QA Result:\", qa_result[\"result\"])\n",
    "# print(\"Source Documents:\", qa_result[\"source_documents\"])\n"
   ]
  },
  {
   "cell_type": "code",
   "execution_count": 21,
   "metadata": {},
   "outputs": [],
   "source": [
    "#IMP \n",
    "# def query_faiss(query, k=5):\n",
    "#     query_embedding = embeddings_model.encode([query], convert_to_tensor=False)\n",
    "#     query_embedding = np.array(query_embedding).astype('float32')\n",
    "#     D, I = index.search(query_embedding, k)  # search the top k nearest neighbors\n",
    "#     return I[0]  \n",
    "# def generate_answer(question, documents):\n",
    "#     context = \"\\n\".join([doc.page_content for doc in documents])\n",
    "#     prompt = f\"Context: {context}\\n\\nQuestion: {question}\\nAnswer:\"\n",
    "#     response = llm(prompt)\n",
    "#     return response\n",
    "# # Perform a query\n",
    "# qa_query = \"What are Allergies?\"\n",
    "# top_k_indices = query_faiss(qa_query, k=5)\n",
    "\n",
    "# # Retrieve the most relevant document chunks\n",
    "# retrieved_docs = [text_chunks[i] for i in top_k_indices]\n",
    "\n",
    "# # Generate the answer\n",
    "# qa_result = generate_answer(qa_query, retrieved_docs)\n",
    "\n",
    "# # Print the results\n",
    "# print(\"QA Result:\", qa_result)\n",
    "# print(\"Source Documents:\", [doc.page_content for doc in retrieved_docs])"
   ]
  },
  {
   "cell_type": "code",
   "execution_count": 22,
   "metadata": {},
   "outputs": [
    {
     "name": "stdout",
     "output_type": "stream",
     "text": [
      "Text: may include discontinuation of drugs or toxins, weight loss, and treatment for dyslipidemia or\n",
      "hyperglycemia. Preliminary evidence suggests that thiazolidinediones can help correct biochemical and\n",
      "histologic abnormalities in NASH. Many other treatments (eg, ursodeoxycholic acid, vitamin E,\n",
      "metronidazole, metformin, betaine, glucagon, glutamine infusion) have not been proved effective.\n",
      "Jaundice\n",
      "Jaundice is a yellowish discoloration of the skin and mucous membranes caused by, Distance: 0.5221682786941528\n",
      "Text: Drug history should specifically note drugs that may promote jaundice (eg, ceftriaxone, sulfonamides,\n",
      "antimalarials).\n",
      "Physical examination:\n",
      " Overall clinical appearance and vital signs are reviewed.\n",
      "The skin is inspected for extent of jaundice. Gentle pressure on the skin can help reveal the presence of\n",
      "jaundice. Also, ecchymoses or petechiae (suggestive of hemolytic anemia) are noted.\n",
      "The physical examination should focus on signs of causative disorders., Distance: 0.6899474263191223\n",
      "Text: Focal neurologic findings usually are not present. Hepatomegaly occurs in about 40% of cases, but\n",
      "jaundice is absent.\n",
      "Complications:\n",
      " Complications include\n",
      "• Electrolyte and fluid disturbances\n",
      "• Increased intracranial pressure (ICP)\n",
      "• Diabetes insipidus\n",
      "• Syndrome of inappropriate ADH secretion\n",
      "• Hypotension\n",
      "• Arrhythmias\n",
      "• Bleeding diatheses (especially GI)\n",
      "• Pancreatitis\n",
      "• Respiratory insufficiency\n",
      "• Hyperammonemia\n",
      "• Aspiration pneumonia\n",
      "• Poor temperature regulation\n",
      "Diagnosis, Distance: 0.7782082557678223\n"
     ]
    }
   ],
   "source": [
    "query = \"What is Jaundice.\"\n",
    "results = search(query, k=3)\n",
    "for result in results:\n",
    "    print(f\"Text: {result[0]}, Distance: {result[1]}\")"
   ]
  },
  {
   "cell_type": "code",
   "execution_count": 23,
   "metadata": {},
   "outputs": [
    {
     "name": "stdout",
     "output_type": "stream",
     "text": [
      "animal, usually delivered through a bite or a sting.ACE is to help regulate arterial pressure by con\n",
      "called ACE inhibitors) are medicines that block the con-version of the chemical angiotensin I to a s\n",
      "normally have very high ACE levels Decreased levels maybe seen in the condition of excess fat in the\n"
     ]
    }
   ],
   "source": [
    "def summarize_text(text, max_length=100):\n",
    "    # A simple summarization method (this is a placeholder)\n",
    "    # For better results, consider using an NLP library like Hugging Face's transformers for summarization\n",
    "    sentences = text.split('. ')\n",
    "    summarized = ' '.join(sentences[:2])  # Taking the first two sentences as an example\n",
    "    return summarized[:max_length]  # Truncate to max_length\n",
    "query = \"What is acene.\"\n",
    "results = search(query, k=3)\n",
    "\n",
    "# Summarize and print the results\n",
    "for result in results:\n",
    "    text, distance = result[0], result[1]\n",
    "    summarized_text = summarize_text(text)\n",
    "    # print(f\"Text: {summarized_text}, Distance: {distance}\")\n",
    "    print(summarized_text)\n",
    "def summarize_text(text, max_length=100):\n",
    "    # A simple summarization method\n",
    "    sentences = text.split('. ')\n",
    "    summarized = ' '.join(sentences[:2])  # Taking the first two sentences as an example\n",
    "    return summarized[:max_length]  # Truncate to max_length\n",
    "\n",
    "# def search(query, k=3):\n",
    "#     # This function should perform the actual search and return results\n",
    "#     # For this example, it's a placeholder and should be replaced with actual search logic\n",
    "#     return [\n",
    "#         (\"GALE ENCYCLOPEDIA OF MEDICINE 2 117Allergies Allergic rhinitis is commonly triggered by exposure to household dust, animal fur,or pollen. The foreign substance thattriggers an allergic reaction is calledan allergen. The presence of an allergen causes the body's lymphocytes to begin producingIgE antibodies. The lymphocytes of an allergy sufferer produce an unusuallylarge amount of IgE. IgE molecules attach to mast cells, which contain histamine.HistaminePollen grains Lymphocyte FIRST EXPOSURE\", 0.6048821210861206),\n",
    "#         (\"itchy, scratchy nose, eyes, and throat common in aller-gic rhinitis. The number of possible airborne allergens is enor-\", 0.6296976208686829),\n",
    "#         (\"allergens are the following: • plant pollens • animal fur and dander • body parts from house mites (microscopic creatures found in all houses) • house dust• mold spores• cigarette smoke• solvents• cleaners Common food allergens include the following: • nuts, especially peanuts, walnuts, and brazil nuts • fish, mollusks, and shellfish• eggs• wheat• milk• food additives and preservatives The following types of drugs commonly cause aller- gic reactions: • penicillin or other antibiotics\", 0.6369765996932983)\n",
    "#     ]\n",
    "\n",
    "# query = \"What are Allergies.\"\n",
    "# results = search(query, k=3)\n",
    "\n",
    "# # Summarize and print the results\n",
    "# for result in results:\n",
    "#     text, distance = result[0], result[1]\n",
    "#     summarized_text = summarize_text(text)\n",
    "#     print(f\"Text: {summarized_text}, Distance: {distance}\")\n"
   ]
  },
  {
   "cell_type": "code",
   "execution_count": 24,
   "metadata": {},
   "outputs": [
    {
     "name": "stdout",
     "output_type": "stream",
     "text": [
      "Text: Check with a physician or pharmacist before combining\n",
      "acetaminophen with any other prescription or nonpre-scription (over-the-counter) medicine.\n",
      "Nancy Ross-Flanigan\n",
      "Acetylsalicylic acid seeAspirin\n",
      "Achalasia\n",
      "Definition\n",
      "Achalasia is a disorder of the esophagus that pre-\n",
      "vents normal swallowing.\n",
      "Description\n",
      "Achalasia affects the esophagus, the tube that carries, Distance: 0.6180734634399414\n",
      "Text: includes barium swallow, endoscopy, and sometimes manometry. Treatments include dilation,\n",
      "chemical denervation, and surgical myotomy.\n",
      "Achalasia is thought to be caused by a loss of ganglion cells in the myenteric plexus of the esophagus,\n",
      "resulting in denervation of esophageal muscle. Etiology of the denervation is unknown, although a viral\n",
      "cause is suspected, and certain tumors may cause achalasia either by direct obstruction or as a, Distance: 0.68194580078125\n",
      "Text: Motility Disorders\n",
      "Achalasia\n",
      "(Cardiospasm; Esophageal Aperistalsis; Megaesophagus)\n",
      "Achalasia is a neurogenic esophageal motility disorder characterized by impaired esophageal\n",
      "peristalsis, a lack of lower esophageal sphincter relaxation during swallowing, and an elevation\n",
      "of lower esophageal sphincter resting pressure. Symptoms are slowly progressive dysphagia,\n",
      "usually to both liquids and solids, and regurgitation of undigested food. Evaluation typically, Distance: 0.7025490999221802\n"
     ]
    }
   ],
   "source": [
    "query = \"What is achalasia\"\n",
    "results = search(query, k=3)\n",
    "for result in results:\n",
    "    print(f\"Text: {result[0]}, Distance: {result[1]}\")"
   ]
  },
  {
   "cell_type": "code",
   "execution_count": 25,
   "metadata": {},
   "outputs": [
    {
     "name": "stdout",
     "output_type": "stream",
     "text": [
      "Text: illness. Fever, usually 38.5 to 40° C, with rigors is accompanied by malaise, weakness, myalgia\n",
      "(especially lumbar), retro-orbital headache, photophobia, anorexia, nausea, and light-headedness. Sore\n",
      "throat and dysesthesia occur less often. After 5 days to 3 wk, patients may improve for 1 or 2 days. Many\n",
      "relapse with recurrent fever, headache, rashes, swelling of metacarpophalangeal and proximal\n",
      "interphalangeal joints, meningeal signs, orchitis, parotitis, or alopecia of the scalp.\n",
      "Text: serious blood disorders. Anyone taking this medicineshould have regular blood counts and should check witha physician if any of the following symptoms occur:\n",
      "• joint or muscle pain\n",
      "• muscle weakness\n",
      "• pain in the chest or abdomen\n",
      "• tremors\n",
      "• wheezing\n",
      "• cough\n",
      "• palpitations\n",
      "• rash, sores, or pain in the mouth\n",
      "• sore throat\n",
      "• fever and chills\n",
      "• loss of appetite\n",
      "•diarrhea\n",
      "• dark urine\n",
      "• yellow skin or eyes\n",
      "• unusual bleeding or bruising• dizziness\n",
      "•hallucinations\n",
      "• depression\n",
      "Special conditions\n",
      "Text: dizziness, fatigue, seizuresWellbutrin (bupropion hydrochloride) Agitation, dry mouth, headache, nausea, rashZoloft (sertraline) Diarrhea, fainting, gas, headache, nervousnessGEM - 0001 to 0432 - A  10/22/03 1:42 PM  Page 257\n"
     ]
    }
   ],
   "source": [
    "query = '''why disesase i have i am using these medication Tab.PCM 500mg fever, headache , body pains vachinappudu\n",
    " Montek LC 9pm for 3 days\n",
    " Strepcils(throat losengen) irritation vachinappuadalla \n",
    " Limce 500mg 8 am 1pm 8 pm. Saparinchu oka 2 days'''\n",
    "results = search(query, k=3)\n",
    "for result in results:\n",
    "    print(f\"Text: {result[0]}\")"
   ]
  },
  {
   "cell_type": "code",
   "execution_count": 37,
   "metadata": {},
   "outputs": [
    {
     "name": "stdout",
     "output_type": "stream",
     "text": [
      "(eg, aspirin, naproxen) are also effective antipyretics. Salicylates should not be used to treat fever in\n",
      "children with viral illnesses because use of salicylates has been associated with Reye's syndrome.\n",
      "If temperature is ≥ 41° C, other cooling measures (eg, evaporative cooling with tepid water mist, cooling\n",
      "blankets) should also be started.\n",
      "Geriatrics Essentials\n",
      "In the frail elderly, infection is less likely to cause fever, and even when elevated by infection, temperature\n",
      "temperature of the water is slightly cooler than the temperature of the child, a bath provides temporary\n",
      "relief.\n",
      "Things to avoid:\n",
      " Wiping the body down with isopropyl alcohol should be strongly discouraged because\n",
      "alcohol can be absorbed through the skin and cause toxicity. Numerous folk remedies exist, ranging from\n",
      "the harmless (eg, putting onions or potatoes in socks) to the uncomfortable (eg, coining, cupping).\n",
      "Key Points\n",
      "• Most acute fever is caused by viral infections.\n",
      "recommended daily dose. Aspirin should be avoided because it increases the risk of Reye's syndrome\n",
      "(see p. \n",
      "2937\n",
      ") if certain viral illnesses such as influenza and varicella are present.\n",
      "Nondrug approaches\n",
      " to fever include putting the child in a warm or tepid bath, using cool compresses,\n",
      "and undressing the child. Caregivers should be cautioned not to use a cold water bath, which is\n",
      "uncomfortable and, by inducing shivering, may paradoxically elevate body temperature. As long as the\n"
     ]
    }
   ],
   "source": [
    "query = '''syrups that can be used for fever.cough,cold,vomits for 2 years baby'''\n",
    "results = search(query, k=3)\n",
    "for result in results:\n",
    "    print(result[0])"
   ]
  },
  {
   "cell_type": "code",
   "execution_count": null,
   "metadata": {},
   "outputs": [],
   "source": []
  }
 ],
 "metadata": {
  "kernelspec": {
   "display_name": "mbot",
   "language": "python",
   "name": "python3"
  },
  "language_info": {
   "codemirror_mode": {
    "name": "ipython",
    "version": 3
   },
   "file_extension": ".py",
   "mimetype": "text/x-python",
   "name": "python",
   "nbconvert_exporter": "python",
   "pygments_lexer": "ipython3",
   "version": "3.8.19"
  }
 },
 "nbformat": 4,
 "nbformat_minor": 2
}
